{
 "cells": [
  {
   "cell_type": "code",
   "execution_count": 1,
   "id": "6d94e177",
   "metadata": {
    "tags": []
   },
   "outputs": [],
   "source": [
    "import sys\n",
    "print(\"sys works\")"
   ]
  },
  {
   "cell_type": "code",
   "execution_count": null,
   "id": "db54238b",
   "metadata": {},
   "outputs": [],
   "source": [
    "#hej"
   ]
  },
  {
   "cell_type": "code",
   "execution_count": 4,
   "id": "9b9d1edf",
   "metadata": {
    "tags": []
   },
   "outputs": [],
   "source": [
    "sys.path.append(\"x:\\\\downloads\\\\sketchgraphs\\\\sketchgraphs\")"
   ]
  },
  {
   "cell_type": "code",
   "execution_count": 5,
   "id": "4733ad4a",
   "metadata": {},
   "outputs": [
    {
     "data": {
      "text/plain": [
       "['C:\\\\Users\\\\Nejako\\\\Documents\\\\MLG',\n",
       " 'C:\\\\Users\\\\Nejako\\\\AppData\\\\Local\\\\Programs\\\\Python\\\\Python39\\\\python39.zip',\n",
       " 'C:\\\\Users\\\\Nejako\\\\AppData\\\\Local\\\\Programs\\\\Python\\\\Python39\\\\DLLs',\n",
       " 'C:\\\\Users\\\\Nejako\\\\AppData\\\\Local\\\\Programs\\\\Python\\\\Python39\\\\lib',\n",
       " 'C:\\\\Users\\\\Nejako\\\\AppData\\\\Local\\\\Programs\\\\Python\\\\Python39',\n",
       " '',\n",
       " 'C:\\\\Users\\\\Nejako\\\\AppData\\\\Roaming\\\\Python\\\\Python39\\\\site-packages',\n",
       " 'C:\\\\Users\\\\Nejako\\\\AppData\\\\Local\\\\Programs\\\\Python\\\\Python39\\\\lib\\\\site-packages',\n",
       " 'C:\\\\Users\\\\Nejako\\\\AppData\\\\Local\\\\Programs\\\\Python\\\\Python39\\\\lib\\\\site-packages\\\\win32',\n",
       " 'C:\\\\Users\\\\Nejako\\\\AppData\\\\Local\\\\Programs\\\\Python\\\\Python39\\\\lib\\\\site-packages\\\\win32\\\\lib',\n",
       " 'C:\\\\Users\\\\Nejako\\\\AppData\\\\Local\\\\Programs\\\\Python\\\\Python39\\\\lib\\\\site-packages\\\\Pythonwin',\n",
       " 'x:\\\\downloads\\\\sketchgraphs\\\\sketchgraphs']"
      ]
     },
     "execution_count": 5,
     "metadata": {},
     "output_type": "execute_result"
    }
   ],
   "source": [
    "sys.path"
   ]
  },
  {
   "cell_type": "code",
   "execution_count": 8,
   "id": "46ad52c8",
   "metadata": {
    "tags": []
   },
   "outputs": [
    {
     "name": "stderr",
     "output_type": "stream",
     "text": [
      "C:\\Users\\Nejako\\AppData\\Local\\Programs\\Python\\Python39\\lib\\site-packages\\tqdm\\auto.py:22: TqdmWarning: IProgress not found. Please update jupyter and ipywidgets. See https://ipywidgets.readthedocs.io/en/stable/user_install.html\n",
      "  from .autonotebook import tqdm as notebook_tqdm\n"
     ]
    },
    {
     "name": "stdout",
     "output_type": "stream",
     "text": [
      "315228\n",
      "NodeOp(label=<EntityType.External: 7>, parameters={})\n",
      "NodeOp(label=<EntityType.Circle: 2>, parameters={'isConstruction': False, 'clockwise': False, 'xCenter': 0.0, 'yCenter': 0.0, 'xDir': 1.0, 'yDir': 0.0, 'radius': 0.0185})\n",
      "EdgeOp(label=<ConstraintType.Diameter: 12>, references=(1,), parameters={'length': '0.037 METER'})\n",
      "NodeOp(label=<SubnodeType.SN_Center: 103>, parameters={})\n",
      "EdgeOp(label=<ConstraintType.Subnode: 101>, references=(2, 1), parameters={})\n",
      "EdgeOp(label=<ConstraintType.Coincident: 0>, references=(2, 0), parameters={})\n",
      "NodeOp(label=<EntityType.Circle: 2>, parameters={'isConstruction': False, 'clockwise': False, 'xCenter': 0.0, 'yCenter': 0.0, 'xDir': 1.0, 'yDir': 0.0, 'radius': 0.032})\n",
      "EdgeOp(label=<ConstraintType.Diameter: 12>, references=(3,), parameters={'length': '0.064 METER'})\n",
      "NodeOp(label=<SubnodeType.SN_Center: 103>, parameters={})\n",
      "EdgeOp(label=<ConstraintType.Subnode: 101>, references=(4, 3), parameters={})\n",
      "EdgeOp(label=<ConstraintType.Coincident: 0>, references=(4, 2), parameters={})\n",
      "NodeOp(label=<EntityType.Stop: 8>, parameters={})\n"
     ]
    },
    {
     "data": {
      "image/png": "[encoded data removed]",
      "text/plain": [
       "<Figure size 640x480 with 1 Axes>"
      ]
     },
     "metadata": {},
     "output_type": "display_data"
    }
   ],
   "source": [
    "import sketchgraphs.data as datalib\n",
    "import random\n",
    "from sketchgraphs.data import flat_array\n",
    "seq_data = flat_array.load_dictionary_flat('datasets/sg_t16_validation.npy')\n",
    "print(len(seq_data['sequences']))\n",
    "\n",
    "seq = seq_data['sequences'][random.randint(0, 315228)]\n",
    "print(*seq[:20], sep='\\n')\n",
    "sketch = datalib.sketch_from_sequence(seq)\n",
    "datalib.render_sketch(sketch);"
   ]
  },
  {
   "cell_type": "code",
   "execution_count": 11,
   "id": "a6196424",
   "metadata": {
    "tags": []
   },
   "outputs": [
    {
     "name": "stderr",
     "output_type": "stream",
     "text": [
      "Exception ignored in: <function ZipFile.__del__ at 0x000002004A0D2160>\n",
      "Traceback (most recent call last):\n",
      "  File \"C:\\Users\\Nejako\\AppData\\Local\\Programs\\Python\\Python39\\lib\\zipfile.py\", line 1807, in __del__\n",
      "  File \"C:\\Users\\Nejako\\AppData\\Local\\Programs\\Python\\Python39\\lib\\zipfile.py\", line 1824, in close\n",
      "ValueError: seek of closed file\n"
     ]
    },
    {
     "ename": "ValueError",
     "evalue": "setting an array element with a sequence. The requested array has an inhomogeneous shape after 1 dimensions. The detected shape was (315228,) + inhomogeneous part.",
     "output_type": "error",
     "traceback": [
      "\u001b[1;31m---------------------------------------------------------------------------\u001b[0m",
      "\u001b[1;31mValueError\u001b[0m                                Traceback (most recent call last)",
      "Cell \u001b[1;32mIn[11], line 3\u001b[0m\n\u001b[0;32m      1\u001b[0m \u001b[38;5;28;01mimport\u001b[39;00m \u001b[38;5;21;01mnumpy\u001b[39;00m \u001b[38;5;28;01mas\u001b[39;00m \u001b[38;5;21;01mnp\u001b[39;00m\n\u001b[0;32m      2\u001b[0m f \u001b[38;5;241m=\u001b[39m \u001b[38;5;28mopen\u001b[39m(\u001b[38;5;124m\"\u001b[39m\u001b[38;5;124mdatasets/exported/test_save1.npz\u001b[39m\u001b[38;5;124m\"\u001b[39m, \u001b[38;5;124m\"\u001b[39m\u001b[38;5;124mwb\u001b[39m\u001b[38;5;124m\"\u001b[39m)\n\u001b[1;32m----> 3\u001b[0m \u001b[43mnp\u001b[49m\u001b[38;5;241;43m.\u001b[39;49m\u001b[43msavez_compressed\u001b[49m\u001b[43m(\u001b[49m\u001b[43mf\u001b[49m\u001b[43m,\u001b[49m\u001b[43m \u001b[49m\u001b[43mseq_data\u001b[49m\u001b[43m[\u001b[49m\u001b[38;5;124;43m'\u001b[39;49m\u001b[38;5;124;43msequences\u001b[39;49m\u001b[38;5;124;43m'\u001b[39;49m\u001b[43m]\u001b[49m\u001b[43m)\u001b[49m\n\u001b[0;32m      4\u001b[0m f\u001b[38;5;241m.\u001b[39mclose()\n",
      "File \u001b[1;32m<__array_function__ internals>:200\u001b[0m, in \u001b[0;36msavez_compressed\u001b[1;34m(*args, **kwargs)\u001b[0m\n",
      "File \u001b[1;32m~\\AppData\\Local\\Programs\\Python\\Python39\\lib\\site-packages\\numpy\\lib\\npyio.py:686\u001b[0m, in \u001b[0;36msavez_compressed\u001b[1;34m(file, *args, **kwds)\u001b[0m\n\u001b[0;32m    623\u001b[0m \u001b[38;5;129m@array_function_dispatch\u001b[39m(_savez_compressed_dispatcher)\n\u001b[0;32m    624\u001b[0m \u001b[38;5;28;01mdef\u001b[39;00m \u001b[38;5;21msavez_compressed\u001b[39m(file, \u001b[38;5;241m*\u001b[39margs, \u001b[38;5;241m*\u001b[39m\u001b[38;5;241m*\u001b[39mkwds):\n\u001b[0;32m    625\u001b[0m \u001b[38;5;250m    \u001b[39m\u001b[38;5;124;03m\"\"\"\u001b[39;00m\n\u001b[0;32m    626\u001b[0m \u001b[38;5;124;03m    Save several arrays into a single file in compressed ``.npz`` format.\u001b[39;00m\n\u001b[0;32m    627\u001b[0m \n\u001b[1;32m   (...)\u001b[0m\n\u001b[0;32m    684\u001b[0m \n\u001b[0;32m    685\u001b[0m \u001b[38;5;124;03m    \"\"\"\u001b[39;00m\n\u001b[1;32m--> 686\u001b[0m     \u001b[43m_savez\u001b[49m\u001b[43m(\u001b[49m\u001b[43mfile\u001b[49m\u001b[43m,\u001b[49m\u001b[43m \u001b[49m\u001b[43margs\u001b[49m\u001b[43m,\u001b[49m\u001b[43m \u001b[49m\u001b[43mkwds\u001b[49m\u001b[43m,\u001b[49m\u001b[43m \u001b[49m\u001b[38;5;28;43;01mTrue\u001b[39;49;00m\u001b[43m)\u001b[49m\n",
      "File \u001b[1;32m~\\AppData\\Local\\Programs\\Python\\Python39\\lib\\site-packages\\numpy\\lib\\npyio.py:716\u001b[0m, in \u001b[0;36m_savez\u001b[1;34m(file, args, kwds, compress, allow_pickle, pickle_kwargs)\u001b[0m\n\u001b[0;32m    714\u001b[0m \u001b[38;5;28;01mfor\u001b[39;00m key, val \u001b[38;5;129;01min\u001b[39;00m namedict\u001b[38;5;241m.\u001b[39mitems():\n\u001b[0;32m    715\u001b[0m     fname \u001b[38;5;241m=\u001b[39m key \u001b[38;5;241m+\u001b[39m \u001b[38;5;124m'\u001b[39m\u001b[38;5;124m.npy\u001b[39m\u001b[38;5;124m'\u001b[39m\n\u001b[1;32m--> 716\u001b[0m     val \u001b[38;5;241m=\u001b[39m \u001b[43mnp\u001b[49m\u001b[38;5;241;43m.\u001b[39;49m\u001b[43masanyarray\u001b[49m\u001b[43m(\u001b[49m\u001b[43mval\u001b[49m\u001b[43m)\u001b[49m\n\u001b[0;32m    717\u001b[0m     \u001b[38;5;66;03m# always force zip64, gh-10776\u001b[39;00m\n\u001b[0;32m    718\u001b[0m     \u001b[38;5;28;01mwith\u001b[39;00m zipf\u001b[38;5;241m.\u001b[39mopen(fname, \u001b[38;5;124m'\u001b[39m\u001b[38;5;124mw\u001b[39m\u001b[38;5;124m'\u001b[39m, force_zip64\u001b[38;5;241m=\u001b[39m\u001b[38;5;28;01mTrue\u001b[39;00m) \u001b[38;5;28;01mas\u001b[39;00m fid:\n",
      "\u001b[1;31mValueError\u001b[0m: setting an array element with a sequence. The requested array has an inhomogeneous shape after 1 dimensions. The detected shape was (315228,) + inhomogeneous part."
     ]
    }
   ],
   "source": [
    "import numpy as np\n",
    "f = open(\"datasets/exported/test_save1.npz\", \"wb\")\n",
    "np.savez_compressed(f, seq_data['sequences'])\n",
    "f.close()"
   ]
  },
  {
   "cell_type": "code",
   "execution_count": 12,
   "id": "36837a94",
   "metadata": {
    "scrolled": true,
    "tags": []
   },
   "outputs": [],
   "source": [
    "import numpy as np\n",
    "testSaved = np.load(\"datasets/exported/test_save1.npz\", allow_pickle=True)\n",
    "testSeq = testSaved['arr_0']"
   ]
  },
  {
   "cell_type": "code",
   "execution_count": 13,
   "id": "89fee37a",
   "metadata": {},
   "outputs": [
    {
     "name": "stdout",
     "output_type": "stream",
     "text": [
      "NodeOp(label=<EntityType.External: 7>, parameters={})\n",
      "NodeOp(label=<EntityType.Circle: 2>, parameters={'isConstruction': False, 'clockwise': False, 'xCenter': 0.0, 'yCenter': 0.0, 'xDir': 1.0, 'yDir': 0.0, 'radius': 0.07468157776994294})\n",
      "NodeOp(label=<SubnodeType.SN_Center: 103>, parameters={})\n",
      "EdgeOp(label=<ConstraintType.Subnode: 101>, references=(2, 1), parameters={})\n",
      "EdgeOp(label=<ConstraintType.Coincident: 0>, references=(2, 0), parameters={})\n",
      "NodeOp(label=<EntityType.Circle: 2>, parameters={'isConstruction': False, 'clockwise': False, 'xCenter': 0.0, 'yCenter': 0.0, 'xDir': 1.0, 'yDir': 0.0, 'radius': 0.06665470513285787})\n",
      "NodeOp(label=<SubnodeType.SN_Center: 103>, parameters={})\n",
      "EdgeOp(label=<ConstraintType.Subnode: 101>, references=(4, 3), parameters={})\n",
      "EdgeOp(label=<ConstraintType.Coincident: 0>, references=(4, 2), parameters={})\n",
      "NodeOp(label=<EntityType.Stop: 8>, parameters={})\n"
     ]
    }
   ],
   "source": [
    "print(*testSeq[0], sep=\"\\n\")"
   ]
  },
  {
   "cell_type": "code",
   "execution_count": 18,
   "id": "1b1d7e88",
   "metadata": {
    "scrolled": false
   },
   "outputs": [
    {
     "ename": "ImportError",
     "evalue": "DLL load failed while importing _graphviz: The specified module could not be found.",
     "output_type": "error",
     "traceback": [
      "\u001b[1;31m---------------------------------------------------------------------------\u001b[0m",
      "\u001b[1;31mImportError\u001b[0m                               Traceback (most recent call last)",
      "Cell \u001b[1;32mIn[18], line 9\u001b[0m\n\u001b[0;32m      7\u001b[0m seq \u001b[38;5;241m=\u001b[39m testSeq[\u001b[38;5;241m14\u001b[39m]\n\u001b[0;32m      8\u001b[0m \u001b[38;5;66;03m#print(*seq, sep=\"\\n\")\u001b[39;00m\n\u001b[1;32m----> 9\u001b[0m pgvgraph \u001b[38;5;241m=\u001b[39m \u001b[43msketchgraphs\u001b[49m\u001b[38;5;241;43m.\u001b[39;49m\u001b[43mdata\u001b[49m\u001b[38;5;241;43m.\u001b[39;49m\u001b[43msequence\u001b[49m\u001b[38;5;241;43m.\u001b[39;49m\u001b[43mpgvgraph_from_sequence\u001b[49m\u001b[43m(\u001b[49m\u001b[43mseq\u001b[49m\u001b[43m)\u001b[49m\n\u001b[0;32m     10\u001b[0m g \u001b[38;5;241m=\u001b[39m nx\u001b[38;5;241m.\u001b[39mGraph(pgvgraph)\n\u001b[0;32m     11\u001b[0m \u001b[38;5;66;03m#print(g.nodes(data=True))\u001b[39;00m\n\u001b[0;32m     12\u001b[0m \u001b[38;5;66;03m#print(g.edges(data=True))\u001b[39;00m\n",
      "File \u001b[1;32mx:\\downloads\\sketchgraphs\\sketchgraphs\\sketchgraphs\\data\\sequence.py:286\u001b[0m, in \u001b[0;36mpgvgraph_from_sequence\u001b[1;34m(seq)\u001b[0m\n\u001b[0;32m    271\u001b[0m \u001b[38;5;28;01mdef\u001b[39;00m \u001b[38;5;21mpgvgraph_from_sequence\u001b[39m(seq):\n\u001b[0;32m    272\u001b[0m \u001b[38;5;250m    \u001b[39m\u001b[38;5;124;03m\"\"\"Builds a pgv.AGraph from the sequence.\u001b[39;00m\n\u001b[0;32m    273\u001b[0m \n\u001b[0;32m    274\u001b[0m \u001b[38;5;124;03m    Hyperedges are not supported in the resulting graph.\u001b[39;00m\n\u001b[1;32m   (...)\u001b[0m\n\u001b[0;32m    284\u001b[0m \u001b[38;5;124;03m        A pygraphviz AGraph corresponding to the given sequence.\u001b[39;00m\n\u001b[0;32m    285\u001b[0m \u001b[38;5;124;03m    \"\"\"\u001b[39;00m\n\u001b[1;32m--> 286\u001b[0m     \u001b[38;5;28;01mimport\u001b[39;00m \u001b[38;5;21;01mpygraphviz\u001b[39;00m \u001b[38;5;28;01mas\u001b[39;00m \u001b[38;5;21;01mpgv\u001b[39;00m\n\u001b[0;32m    288\u001b[0m     graph \u001b[38;5;241m=\u001b[39m pgv\u001b[38;5;241m.\u001b[39mAGraph(strict\u001b[38;5;241m=\u001b[39m\u001b[38;5;28;01mFalse\u001b[39;00m)\n\u001b[0;32m    289\u001b[0m     idx \u001b[38;5;241m=\u001b[39m \u001b[38;5;241m0\u001b[39m\n",
      "File \u001b[1;32m~\\AppData\\Local\\Programs\\Python\\Python39\\lib\\site-packages\\pygraphviz\\__init__.py:24\u001b[0m\n\u001b[0;32m     19\u001b[0m             os\u001b[38;5;241m.\u001b[39madd_dll_directory(path)\n\u001b[0;32m     22\u001b[0m __version__ \u001b[38;5;241m=\u001b[39m \u001b[38;5;124m\"\u001b[39m\u001b[38;5;124m1.10\u001b[39m\u001b[38;5;124m\"\u001b[39m\n\u001b[1;32m---> 24\u001b[0m \u001b[38;5;28;01mfrom\u001b[39;00m \u001b[38;5;21;01m.\u001b[39;00m\u001b[38;5;21;01magraph\u001b[39;00m \u001b[38;5;28;01mimport\u001b[39;00m AGraph, Node, Edge, Attribute, ItemAttribute, DotError\n\u001b[0;32m     26\u001b[0m __all__ \u001b[38;5;241m=\u001b[39m [\u001b[38;5;124m\"\u001b[39m\u001b[38;5;124mAGraph\u001b[39m\u001b[38;5;124m\"\u001b[39m, \u001b[38;5;124m\"\u001b[39m\u001b[38;5;124mNode\u001b[39m\u001b[38;5;124m\"\u001b[39m, \u001b[38;5;124m\"\u001b[39m\u001b[38;5;124mEdge\u001b[39m\u001b[38;5;124m\"\u001b[39m, \u001b[38;5;124m\"\u001b[39m\u001b[38;5;124mAttribute\u001b[39m\u001b[38;5;124m\"\u001b[39m, \u001b[38;5;124m\"\u001b[39m\u001b[38;5;124mItemAttribute\u001b[39m\u001b[38;5;124m\"\u001b[39m, \u001b[38;5;124m\"\u001b[39m\u001b[38;5;124mDotError\u001b[39m\u001b[38;5;124m\"\u001b[39m]\n\u001b[0;32m     28\u001b[0m \u001b[38;5;28;01mfrom\u001b[39;00m \u001b[38;5;21;01m.\u001b[39;00m \u001b[38;5;28;01mimport\u001b[39;00m testing\n",
      "File \u001b[1;32m~\\AppData\\Local\\Programs\\Python\\Python39\\lib\\site-packages\\pygraphviz\\agraph.py:15\u001b[0m\n\u001b[0;32m     12\u001b[0m \u001b[38;5;28;01mimport\u001b[39;00m \u001b[38;5;21;01mtempfile\u001b[39;00m\n\u001b[0;32m     13\u001b[0m \u001b[38;5;28;01mimport\u001b[39;00m \u001b[38;5;21;01mio\u001b[39;00m\n\u001b[1;32m---> 15\u001b[0m \u001b[38;5;28;01mfrom\u001b[39;00m \u001b[38;5;21;01m.\u001b[39;00m \u001b[38;5;28;01mimport\u001b[39;00m graphviz \u001b[38;5;28;01mas\u001b[39;00m gv\n\u001b[0;32m     17\u001b[0m _DEFAULT_ENCODING \u001b[38;5;241m=\u001b[39m \u001b[38;5;124m\"\u001b[39m\u001b[38;5;124mUTF-8\u001b[39m\u001b[38;5;124m\"\u001b[39m\n\u001b[0;32m     20\u001b[0m \u001b[38;5;28;01mclass\u001b[39;00m \u001b[38;5;21;01mPipeReader\u001b[39;00m(threading\u001b[38;5;241m.\u001b[39mThread):\n",
      "File \u001b[1;32m~\\AppData\\Local\\Programs\\Python\\Python39\\lib\\site-packages\\pygraphviz\\graphviz.py:13\u001b[0m\n\u001b[0;32m     11\u001b[0m \u001b[38;5;66;03m# Import the low-level C/C++ module\u001b[39;00m\n\u001b[0;32m     12\u001b[0m \u001b[38;5;28;01mif\u001b[39;00m __package__ \u001b[38;5;129;01mor\u001b[39;00m \u001b[38;5;124m\"\u001b[39m\u001b[38;5;124m.\u001b[39m\u001b[38;5;124m\"\u001b[39m \u001b[38;5;129;01min\u001b[39;00m \u001b[38;5;18m__name__\u001b[39m:\n\u001b[1;32m---> 13\u001b[0m     \u001b[38;5;28;01mfrom\u001b[39;00m \u001b[38;5;21;01m.\u001b[39;00m \u001b[38;5;28;01mimport\u001b[39;00m _graphviz\n\u001b[0;32m     14\u001b[0m \u001b[38;5;28;01melse\u001b[39;00m:\n\u001b[0;32m     15\u001b[0m     \u001b[38;5;28;01mimport\u001b[39;00m \u001b[38;5;21;01m_graphviz\u001b[39;00m\n",
      "\u001b[1;31mImportError\u001b[0m: DLL load failed while importing _graphviz: The specified module could not be found."
     ]
    }
   ],
   "source": [
    "import networkx as nx\n",
    "import sketchgraphs\n",
    "import sketchgraphs.data as datalib\n",
    "import matplotlib.pyplot as plt\n",
    "import graphviz\n",
    "import math\n",
    "seq = testSeq[14]\n",
    "#print(*seq, sep=\"\\n\")\n",
    "pgvgraph = sketchgraphs.data.sequence.pgvgraph_from_sequence(seq)\n",
    "g = nx.Graph(pgvgraph)\n",
    "#print(g.nodes(data=True))\n",
    "#print(g.edges(data=True))\n",
    "\n",
    "l = nx.get_node_attributes(g, 'label')\n",
    "for lab in l:\n",
    "    l[lab] = lab + \"\\n\" + l[lab]\n",
    "    \n",
    "e = nx.get_edge_attributes(g, 'label')\n",
    "for lab in e:\n",
    "    e[lab] = e[lab][:4]\n",
    "#print(e)\n",
    "pos = nx.spring_layout(g, k=1/math.sqrt(g.number_of_nodes()), iterations=g.number_of_nodes()*20)\n",
    "\n",
    "#coloring nodes\n",
    "node_type_colors = {\n",
    "    \"External\": \"red\",\n",
    "    \"SN_Start\": \"#AAAAAA\",\n",
    "    \"SN_End\": \"#AAAAAA\",\n",
    "    \"Line\": \"#AAAAFF\"\n",
    "}\n",
    "\n",
    "#edge_color\n",
    "edge_type_colors = {\n",
    "    \"Subnode\": \"#AAAAAA\",\n",
    "    \"Vertical\": \"blue\",\n",
    "    \"Horizontal\": \"#FEDCBA\",\n",
    "    \"Perpendicular\": \"green\",\n",
    "    \"Parallel\": \"black\",\n",
    "    \"Coincident\": \"purple\",\n",
    "    \"Distance\": \"#ABCDEF\",\n",
    "    \"Diameter\": \"orange\"\n",
    "}\n",
    "\n",
    "node_colors=[]\n",
    "edge_colors=[]\n",
    "\n",
    "for n in g.nodes.values():\n",
    "    label = n[\"label\"]\n",
    "    if label in node_type_colors:\n",
    "        node_colors.append(node_type_colors[label])\n",
    "    else:\n",
    "        node_colors.append(\"white\")\n",
    "        \n",
    "for n in g.edges.values():\n",
    "    label = n[\"label\"]\n",
    "    if label in edge_type_colors:\n",
    "        edge_colors.append(edge_type_colors[label])\n",
    "    else:\n",
    "        edge_colors.append(\"black\")\n",
    "\n",
    "plt.figure(1, figsize=(16, 16))\n",
    "nx.draw_networkx_nodes(g, pos=pos, node_size=1000, node_color=node_colors)\n",
    "nx.draw_networkx_edges(g, pos, edge_color=edge_colors, width=3)\n",
    "nx.draw_networkx_edge_labels(g, pos=pos, edge_labels=e, font_size=10)\n",
    "nx.draw_networkx_labels(g, pos, l, font_size=8)\n",
    "plt.show()\n",
    "sketch = datalib.sketch_from_sequence(seq)\n",
    "datalib.render_sketch(sketch);"
   ]
  },
  {
   "cell_type": "code",
   "execution_count": null,
   "id": "089e751f",
   "metadata": {
    "tags": []
   },
   "outputs": [],
   "source": [
    "print(*seq, sep='\\n')\n",
    "sketch = datalib.sketch_from_sequence(seq)\n",
    "datalib.render_sketch(sketch);"
   ]
  },
  {
   "cell_type": "code",
   "execution_count": null,
   "id": "bd6f4a37",
   "metadata": {
    "tags": []
   },
   "outputs": [],
   "source": [
    "import os\n",
    "!dir"
   ]
  },
  {
   "cell_type": "code",
   "execution_count": null,
   "id": "c4d7eb3c",
   "metadata": {},
   "outputs": [],
   "source": []
  }
 ],
 "metadata": {
  "kernelspec": {
   "display_name": "Python 3 (ipykernel)",
   "language": "python",
   "name": "python3"
  },
  "language_info": {
   "codemirror_mode": {
    "name": "ipython",
    "version": 3
   },
   "file_extension": ".py",
   "mimetype": "text/x-python",
   "name": "python",
   "nbconvert_exporter": "python",
   "pygments_lexer": "ipython3",
   "version": "3.10.10"
  }
 },
 "nbformat": 4,
 "nbformat_minor": 5
}
