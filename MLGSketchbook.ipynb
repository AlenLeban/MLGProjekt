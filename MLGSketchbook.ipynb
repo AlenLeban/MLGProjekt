{
 "cells": [
  {
   "cell_type": "code",
   "execution_count": 1,
   "metadata": {
    "tags": []
   },
   "outputs": [],
   "source": [
    "import sys"
   ]
  },
  {
   "cell_type": "code",
   "execution_count": 7,
   "metadata": {
    "tags": []
   },
   "outputs": [
    {
     "data": {
      "text/plain": [
       "['C:\\\\Users\\\\Nejako\\\\Documents\\\\MLG',\n",
       " 'C:\\\\Users\\\\Nejako\\\\AppData\\\\Local\\\\Programs\\\\Python\\\\Python311\\\\python311.zip',\n",
       " 'C:\\\\Users\\\\Nejako\\\\AppData\\\\Local\\\\Programs\\\\Python\\\\Python311\\\\DLLs',\n",
       " 'C:\\\\Users\\\\Nejako\\\\AppData\\\\Local\\\\Programs\\\\Python\\\\Python311\\\\Lib',\n",
       " 'C:\\\\Users\\\\Nejako\\\\AppData\\\\Local\\\\Programs\\\\Python\\\\Python311',\n",
       " '',\n",
       " 'C:\\\\Users\\\\Nejako\\\\AppData\\\\Local\\\\Programs\\\\Python\\\\Python311\\\\Lib\\\\site-packages',\n",
       " 'C:\\\\Users\\\\Nejako\\\\AppData\\\\Local\\\\Programs\\\\Python\\\\Python311\\\\Lib\\\\site-packages\\\\win32',\n",
       " 'C:\\\\Users\\\\Nejako\\\\AppData\\\\Local\\\\Programs\\\\Python\\\\Python311\\\\Lib\\\\site-packages\\\\win32\\\\lib',\n",
       " 'C:\\\\Users\\\\Nejako\\\\AppData\\\\Local\\\\Programs\\\\Python\\\\Python311\\\\Lib\\\\site-packages\\\\Pythonwin',\n",
       " 'x:\\\\downloads\\\\sketchgraphs\\\\sketchgraphs']"
      ]
     },
     "execution_count": 7,
     "metadata": {},
     "output_type": "execute_result"
    }
   ],
   "source": [
    "sys.path"
   ]
  },
  {
   "cell_type": "code",
   "execution_count": 13,
   "metadata": {
    "tags": []
   },
   "outputs": [
    {
     "name": "stdout",
     "output_type": "stream",
     "text": [
      "315228\n",
      "NodeOp(label=<EntityType.External: 7>, parameters={})\n",
      "NodeOp(label=<EntityType.Line: 1>, parameters={'isConstruction': False, 'dirX': -1.0, 'dirY': -1.2246467991473532e-16, 'pntX': 0.01264367759227753, 'pntY': -0.020000000000000004, 'startParam': -0.05235632240772247, 'endParam': 0.07764367759227753})\n",
      "NodeOp(label=<SubnodeType.SN_Start: 101>, parameters={})\n",
      "EdgeOp(label=<ConstraintType.Subnode: 101>, references=(2, 1), parameters={})\n",
      "NodeOp(label=<SubnodeType.SN_End: 102>, parameters={})\n",
      "EdgeOp(label=<ConstraintType.Subnode: 101>, references=(3, 1), parameters={})\n",
      "NodeOp(label=<EntityType.Line: 1>, parameters={'isConstruction': False, 'dirX': -1.0, 'dirY': -1.2246467991473532e-16, 'pntX': -2.1783228766819863e-18, 'pntY': 0.019999999999999997, 'startParam': -0.065, 'endParam': 0.065})\n",
      "EdgeOp(label=<ConstraintType.Parallel: 5>, references=(4, 1), parameters={})\n",
      "EdgeOp(label=<ConstraintType.Horizontal: 4>, references=(4,), parameters={})\n",
      "EdgeOp(label=<ConstraintType.Distance: 3>, references=(4, 1), parameters={'direction': 'MINIMUM', 'length': '0.04 METER', 'halfSpace0': 'LEFT', 'halfSpace1': 'RIGHT'})\n",
      "NodeOp(label=<SubnodeType.SN_Start: 101>, parameters={})\n",
      "EdgeOp(label=<ConstraintType.Subnode: 101>, references=(5, 4), parameters={})\n",
      "NodeOp(label=<SubnodeType.SN_End: 102>, parameters={})\n",
      "EdgeOp(label=<ConstraintType.Subnode: 101>, references=(6, 4), parameters={})\n",
      "NodeOp(label=<EntityType.Line: 1>, parameters={'isConstruction': False, 'dirX': 6.123233995736765e-17, 'dirY': 1.0, 'pntX': 0.065, 'pntY': -0.01778735614381733, 'startParam': -0.0022126438561826667, 'endParam': 0.037787356143817334})\n",
      "EdgeOp(label=<ConstraintType.Perpendicular: 9>, references=(7, 4), parameters={})\n",
      "NodeOp(label=<SubnodeType.SN_Start: 101>, parameters={})\n",
      "EdgeOp(label=<ConstraintType.Subnode: 101>, references=(8, 7), parameters={})\n",
      "EdgeOp(label=<ConstraintType.Coincident: 0>, references=(8, 2), parameters={})\n",
      "NodeOp(label=<SubnodeType.SN_End: 102>, parameters={})\n"
     ]
    },
    {
     "data": {
      "image/png": "[encoded data removed]",
      "text/plain": [
       "<Figure size 640x480 with 1 Axes>"
      ]
     },
     "metadata": {},
     "output_type": "display_data"
    }
   ],
   "source": [
    "import sketchgraphs.data as datalib\n",
    "import sketchgraphs\n",
    "import random\n",
    "from sketchgraphs.data import flat_array\n",
    "seq_data = flat_array.load_dictionary_flat('datasets/sg_t16_validation.npy')\n",
    "print(len(seq_data['sequences']))\n",
    "\n",
    "seq = seq_data['sequences'][random.randint(0, 315228)]\n",
    "print(*seq[:20], sep='\\n')\n",
    "sketch = datalib.sketch_from_sequence(seq)\n",
    "datalib.render_sketch(sketch);"
   ]
  },
  {
   "cell_type": "code",
   "execution_count": 38,
   "metadata": {
    "scrolled": true
   },
   "outputs": [
    {
     "name": "stdout",
     "output_type": "stream",
     "text": [
      "278588\n"
     ]
    }
   ],
   "source": [
    "filteredDataset = remove_hyperedges(seq_data['sequences'])\n",
    "print(len(filteredDataset))"
   ]
  },
  {
   "cell_type": "code",
   "execution_count": 36,
   "metadata": {},
   "outputs": [],
   "source": [
    "def remove_hyperedges(graphs):\n",
    "    filteredDataset = []\n",
    "    for s in graphs:\n",
    "        is_hyper = False\n",
    "        for l in s:\n",
    "            if type(l) == sketchgraphs.data.sequence.EdgeOp:\n",
    "                if len(l.references) > 2:\n",
    "                    #counter[str(l.label)] = 1\n",
    "                    is_hyper = True\n",
    "                    break\n",
    "        if not is_hyper:\n",
    "            filteredDataset.append(s)\n",
    "    return filteredDataset"
   ]
  },
  {
   "cell_type": "code",
   "execution_count": 35,
   "metadata": {
    "tags": []
   },
   "outputs": [],
   "source": [
    "import numpy as np\n",
    "\n",
    "# filteredDataset needs to be FlatSerializedArray\n",
    "ser = flat_array.save_list_flat(filteredDataset)\n",
    "np.save(\"datasets/exported/sketchgraphs_nohyper_val.npy\", ser)\n"
   ]
  },
  {
   "cell_type": "code",
   "execution_count": 34,
   "metadata": {
    "tags": []
   },
   "outputs": [
    {
     "name": "stdout",
     "output_type": "stream",
     "text": [
      "[NodeOp(label=<EntityType.External: 7>, parameters={}), NodeOp(label=<EntityType.Circle: 2>, parameters={'isConstruction': False, 'clockwise': False, 'xCenter': 0.0, 'yCenter': 0.0, 'xDir': 1.0, 'yDir': 0.0, 'radius': 0.028846178018090852}), NodeOp(label=<SubnodeType.SN_Center: 103>, parameters={}), EdgeOp(label=<ConstraintType.Subnode: 101>, references=(2, 1), parameters={}), EdgeOp(label=<ConstraintType.Coincident: 0>, references=(2, 0), parameters={}), NodeOp(label=<EntityType.Stop: 8>, parameters={})]\n"
     ]
    }
   ],
   "source": [
    "# testing loading the saved array\n",
    "testSaved = flat_array.load_flat_array(\"datasets/exported/sketchgraphs_nohyper_val.npy\")\n",
    "print(testSaved[2], sep=\"\\n\")"
   ]
  },
  {
   "cell_type": "code",
   "execution_count": 40,
   "metadata": {
    "tags": []
   },
   "outputs": [
    {
     "name": "stdout",
     "output_type": "stream",
     "text": [
      "NodeOp(label=<EntityType.External: 7>, parameters={})\n",
      "NodeOp(label=<EntityType.Line: 1>, parameters={'isConstruction': False, 'dirX': -1.0, 'dirY': -1.2246467991473532e-16, 'pntX': 0.01264367759227753, 'pntY': -0.020000000000000004, 'startParam': -0.05235632240772247, 'endParam': 0.07764367759227753})\n",
      "NodeOp(label=<SubnodeType.SN_Start: 101>, parameters={})\n",
      "EdgeOp(label=<ConstraintType.Subnode: 101>, references=(2, 1), parameters={})\n",
      "NodeOp(label=<SubnodeType.SN_End: 102>, parameters={})\n",
      "EdgeOp(label=<ConstraintType.Subnode: 101>, references=(3, 1), parameters={})\n",
      "NodeOp(label=<EntityType.Line: 1>, parameters={'isConstruction': False, 'dirX': -1.0, 'dirY': -1.2246467991473532e-16, 'pntX': -2.1783228766819863e-18, 'pntY': 0.019999999999999997, 'startParam': -0.065, 'endParam': 0.065})\n",
      "EdgeOp(label=<ConstraintType.Parallel: 5>, references=(4, 1), parameters={})\n",
      "EdgeOp(label=<ConstraintType.Horizontal: 4>, references=(4,), parameters={})\n",
      "EdgeOp(label=<ConstraintType.Distance: 3>, references=(4, 1), parameters={'direction': 'MINIMUM', 'length': '0.04 METER', 'halfSpace0': 'LEFT', 'halfSpace1': 'RIGHT'})\n",
      "NodeOp(label=<SubnodeType.SN_Start: 101>, parameters={})\n",
      "EdgeOp(label=<ConstraintType.Subnode: 101>, references=(5, 4), parameters={})\n",
      "NodeOp(label=<SubnodeType.SN_End: 102>, parameters={})\n",
      "EdgeOp(label=<ConstraintType.Subnode: 101>, references=(6, 4), parameters={})\n",
      "NodeOp(label=<EntityType.Line: 1>, parameters={'isConstruction': False, 'dirX': 6.123233995736765e-17, 'dirY': 1.0, 'pntX': 0.065, 'pntY': -0.01778735614381733, 'startParam': -0.0022126438561826667, 'endParam': 0.037787356143817334})\n",
      "EdgeOp(label=<ConstraintType.Perpendicular: 9>, references=(7, 4), parameters={})\n",
      "NodeOp(label=<SubnodeType.SN_Start: 101>, parameters={})\n",
      "EdgeOp(label=<ConstraintType.Subnode: 101>, references=(8, 7), parameters={})\n",
      "EdgeOp(label=<ConstraintType.Coincident: 0>, references=(8, 2), parameters={})\n",
      "NodeOp(label=<SubnodeType.SN_End: 102>, parameters={})\n",
      "EdgeOp(label=<ConstraintType.Subnode: 101>, references=(9, 7), parameters={})\n",
      "EdgeOp(label=<ConstraintType.Coincident: 0>, references=(9, 5), parameters={})\n",
      "NodeOp(label=<EntityType.Line: 1>, parameters={'isConstruction': False, 'dirX': 6.123233995736765e-17, 'dirY': 1.0, 'pntX': -0.065, 'pntY': -0.017787356143817316, 'startParam': -0.0022126438561826944, 'endParam': 0.037787356143817306})\n",
      "EdgeOp(label=<ConstraintType.Parallel: 5>, references=(10, 7), parameters={})\n",
      "EdgeOp(label=<ConstraintType.Distance: 3>, references=(10, 7), parameters={'direction': 'MINIMUM', 'length': '0.13 METER', 'halfSpace0': 'LEFT', 'halfSpace1': 'RIGHT'})\n",
      "NodeOp(label=<SubnodeType.SN_Start: 101>, parameters={})\n",
      "EdgeOp(label=<ConstraintType.Subnode: 101>, references=(11, 10), parameters={})\n",
      "EdgeOp(label=<ConstraintType.Coincident: 0>, references=(11, 3), parameters={})\n",
      "NodeOp(label=<SubnodeType.SN_End: 102>, parameters={})\n",
      "EdgeOp(label=<ConstraintType.Subnode: 101>, references=(12, 10), parameters={})\n",
      "EdgeOp(label=<ConstraintType.Coincident: 0>, references=(12, 6), parameters={})\n",
      "NodeOp(label=<EntityType.Point: 0>, parameters={'isConstruction': True, 'x': 0.0, 'y': 0.0})\n",
      "EdgeOp(label=<ConstraintType.Midpoint: 10>, references=(13, 5, 3), parameters={})\n",
      "EdgeOp(label=<ConstraintType.Midpoint: 10>, references=(13, 6, 2), parameters={})\n",
      "EdgeOp(label=<ConstraintType.Coincident: 0>, references=(13, 0), parameters={})\n",
      "NodeOp(label=<EntityType.Stop: 8>, parameters={})\n"
     ]
    },
    {
     "data": {
      "image/png": "[encoded data removed]",
      "text/plain": [
       "<Figure size 640x480 with 1 Axes>"
      ]
     },
     "metadata": {},
     "output_type": "display_data"
    }
   ],
   "source": [
    "print(*seq, sep='\\n')\n",
    "sketch = datalib.sketch_from_sequence(seq)\n",
    "datalib.render_sketch(sketch);"
   ]
  },
  {
   "cell_type": "code",
   "execution_count": null,
   "metadata": {},
   "outputs": [],
   "source": []
  }
 ],
 "metadata": {
  "kernelspec": {
   "display_name": "Python 3 (ipykernel)",
   "language": "python",
   "name": "python3"
  },
  "language_info": {
   "codemirror_mode": {
    "name": "ipython",
    "version": 3
   },
   "file_extension": ".py",
   "mimetype": "text/x-python",
   "name": "python",
   "nbconvert_exporter": "python",
   "pygments_lexer": "ipython3",
   "version": "3.11.2"
  }
 },
 "nbformat": 4,
 "nbformat_minor": 5
}
