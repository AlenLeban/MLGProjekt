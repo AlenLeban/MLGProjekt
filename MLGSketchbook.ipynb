{
 "cells": [
  {
   "cell_type": "code",
   "execution_count": 1,
   "id": "c4f5f2a4-a7e8-406e-8af1-fde26692ac97",
   "metadata": {
    "tags": []
   },
   "outputs": [],
   "source": [
    "import sys"
   ]
  },
  {
   "cell_type": "code",
   "execution_count": 2,
   "id": "15b368cf-d52c-4cf7-b951-b2516236f82c",
   "metadata": {
    "tags": []
   },
   "outputs": [
    {
     "data": {
      "text/plain": [
       "['C:\\\\Users\\\\AndrejxD\\\\OneDrive\\\\Sola\\\\MLG',\n",
       " 'C:\\\\Program Files\\\\WindowsApps\\\\PythonSoftwareFoundation.Python.3.8_3.8.2800.0_x64__qbz5n2kfra8p0\\\\python38.zip',\n",
       " 'C:\\\\Program Files\\\\WindowsApps\\\\PythonSoftwareFoundation.Python.3.8_3.8.2800.0_x64__qbz5n2kfra8p0\\\\DLLs',\n",
       " 'C:\\\\Program Files\\\\WindowsApps\\\\PythonSoftwareFoundation.Python.3.8_3.8.2800.0_x64__qbz5n2kfra8p0\\\\lib',\n",
       " 'C:\\\\Users\\\\AndrejxD\\\\AppData\\\\Local\\\\Microsoft\\\\WindowsApps\\\\PythonSoftwareFoundation.Python.3.8_qbz5n2kfra8p0',\n",
       " '',\n",
       " 'C:\\\\Users\\\\AndrejxD\\\\AppData\\\\Local\\\\Packages\\\\PythonSoftwareFoundation.Python.3.8_qbz5n2kfra8p0\\\\LocalCache\\\\local-packages\\\\Python38\\\\site-packages',\n",
       " 'd:\\\\downloads\\\\sketchgraphs',\n",
       " 'C:\\\\Users\\\\AndrejxD\\\\AppData\\\\Local\\\\Packages\\\\PythonSoftwareFoundation.Python.3.8_qbz5n2kfra8p0\\\\LocalCache\\\\local-packages\\\\Python38\\\\site-packages\\\\win32',\n",
       " 'C:\\\\Users\\\\AndrejxD\\\\AppData\\\\Local\\\\Packages\\\\PythonSoftwareFoundation.Python.3.8_qbz5n2kfra8p0\\\\LocalCache\\\\local-packages\\\\Python38\\\\site-packages\\\\win32\\\\lib',\n",
       " 'C:\\\\Users\\\\AndrejxD\\\\AppData\\\\Local\\\\Packages\\\\PythonSoftwareFoundation.Python.3.8_qbz5n2kfra8p0\\\\LocalCache\\\\local-packages\\\\Python38\\\\site-packages\\\\Pythonwin',\n",
       " 'C:\\\\Program Files\\\\WindowsApps\\\\PythonSoftwareFoundation.Python.3.8_3.8.2800.0_x64__qbz5n2kfra8p0',\n",
       " 'C:\\\\Program Files\\\\WindowsApps\\\\PythonSoftwareFoundation.Python.3.8_3.8.2800.0_x64__qbz5n2kfra8p0\\\\lib\\\\site-packages',\n",
       " 'C:\\\\Users\\\\AndrejxD\\\\AppData\\\\Local\\\\Packages\\\\PythonSoftwareFoundation.Python.3.8_qbz5n2kfra8p0\\\\LocalCache\\\\local-packages\\\\Python38\\\\site-packages\\\\IPython\\\\extensions',\n",
       " 'C:\\\\Users\\\\AndrejxD\\\\.ipython']"
      ]
     },
     "execution_count": 2,
     "metadata": {},
     "output_type": "execute_result"
    }
   ],
   "source": [
    "sys.path"
   ]
  },
  {
   "cell_type": "code",
   "execution_count": 3,
   "id": "4d8fca82-3045-409f-8c89-0a1668c0d593",
   "metadata": {
    "tags": []
   },
   "outputs": [
    {
     "name": "stdout",
     "output_type": "stream",
     "text": [
      "315228\n",
      "NodeOp(label=<EntityType.External: 7>, parameters={})\n",
      "NodeOp(label=<EntityType.Circle: 2>, parameters={'isConstruction': True, 'clockwise': False, 'xCenter': 0.0, 'yCenter': 0.0, 'xDir': 1.0, 'yDir': 0.0, 'radius': 0.004041451884327372})\n",
      "NodeOp(label=<SubnodeType.SN_Center: 103>, parameters={})\n",
      "EdgeOp(label=<ConstraintType.Subnode: 101>, references=(2, 1), parameters={})\n",
      "EdgeOp(label=<ConstraintType.Concentric: 15>, references=(2, 0), parameters={})\n",
      "NodeOp(label=<EntityType.Line: 1>, parameters={'isConstruction': False, 'dirX': 0.0, 'dirY': -0.9999999999999999, 'pntX': -0.0035, 'pntY': -3.1785640014566326e-06, 'startParam': -0.0020239045061651445, 'endParam': 0.002017547378162232})\n",
      "EdgeOp(label=<ConstraintType.Vertical: 6>, references=(3,), parameters={})\n",
      "NodeOp(label=<SubnodeType.SN_Start: 101>, parameters={})\n",
      "EdgeOp(label=<ConstraintType.Subnode: 101>, references=(4, 3), parameters={})\n",
      "EdgeOp(label=<ConstraintType.Coincident: 0>, references=(4, 1), parameters={})\n",
      "NodeOp(label=<SubnodeType.SN_End: 102>, parameters={})\n",
      "EdgeOp(label=<ConstraintType.Subnode: 101>, references=(5, 3), parameters={})\n",
      "EdgeOp(label=<ConstraintType.Coincident: 0>, references=(5, 1), parameters={})\n",
      "NodeOp(label=<EntityType.Line: 1>, parameters={'isConstruction': False, 'dirX': 0.8660254037844393, 'dirY': -0.4999999999999988, 'pntX': -0.0016918798548043307, 'pntY': -0.003064644594719591, 'startParam': -0.002087837305111808, 'endParam': 0.001953614579215568})\n",
      "NodeOp(label=<SubnodeType.SN_Start: 101>, parameters={})\n",
      "EdgeOp(label=<ConstraintType.Subnode: 101>, references=(7, 6), parameters={})\n",
      "EdgeOp(label=<ConstraintType.Coincident: 0>, references=(7, 5), parameters={})\n",
      "NodeOp(label=<SubnodeType.SN_End: 102>, parameters={})\n",
      "EdgeOp(label=<ConstraintType.Subnode: 101>, references=(8, 6), parameters={})\n",
      "EdgeOp(label=<ConstraintType.Coincident: 0>, references=(8, 1), parameters={})\n"
     ]
    },
    {
     "data": {
      "image/png": "[encoded data removed]",
      "text/plain": [
       "<Figure size 432x288 with 1 Axes>"
      ]
     },
     "metadata": {
      "needs_background": "light"
     },
     "output_type": "display_data"
    }
   ],
   "source": [
    "import sketchgraphs.data as datalib\n",
    "import random\n",
    "from sketchgraphs.data import flat_array\n",
    "seq_data = flat_array.load_dictionary_flat('datasets/sg_t16_validation.npy')\n",
    "print(len(seq_data['sequences']))\n",
    "\n",
    "seq = seq_data['sequences'][random.randint(0, 315228)]\n",
    "print(*seq[:20], sep='\\n')\n",
    "sketch = datalib.sketch_from_sequence(seq)\n",
    "datalib.render_sketch(sketch);"
   ]
  },
  {
   "cell_type": "code",
   "execution_count": 51,
   "id": "b4b64550-073e-46d7-8519-6f232590cc85",
   "metadata": {
    "tags": []
   },
   "outputs": [],
   "source": [
    "import numpy as np\n",
    "f = open(\"datasets/exported/test_save1.npz\", \"wb\")\n",
    "np.savez_compressed(f, seq_data['sequences'])\n",
    "f.close()"
   ]
  },
  {
   "cell_type": "code",
   "execution_count": 47,
   "id": "03cc98f6-5674-49f1-b304-c1c75813e207",
   "metadata": {
    "tags": []
   },
   "outputs": [
    {
     "name": "stdout",
     "output_type": "stream",
     "text": [
      "[NodeOp(label=<EntityType.External: 7>, parameters={}), NodeOp(label=<EntityType.Circle: 2>, parameters={'isConstruction': False, 'clockwise': False, 'xCenter': 0.0, 'yCenter': 0.0, 'xDir': 1.0, 'yDir': 0.0, 'radius': 0.07468157776994294}), NodeOp(label=<SubnodeType.SN_Center: 103>, parameters={}), EdgeOp(label=<ConstraintType.Subnode: 101>, references=(2, 1), parameters={}), EdgeOp(label=<ConstraintType.Coincident: 0>, references=(2, 0), parameters={}), NodeOp(label=<EntityType.Circle: 2>, parameters={'isConstruction': False, 'clockwise': False, 'xCenter': 0.0, 'yCenter': 0.0, 'xDir': 1.0, 'yDir': 0.0, 'radius': 0.06665470513285787}), NodeOp(label=<SubnodeType.SN_Center: 103>, parameters={}), EdgeOp(label=<ConstraintType.Subnode: 101>, references=(4, 3), parameters={}), EdgeOp(label=<ConstraintType.Coincident: 0>, references=(4, 2), parameters={}), NodeOp(label=<EntityType.Stop: 8>, parameters={})]\n"
     ]
    }
   ],
   "source": [
    "testSaved = np.load(\"datasets/exported/test_save1.npz\", allow_pickle=True)\n",
    "print(testSaved['arr_0'], sep=\"\\n\")"
   ]
  },
  {
   "cell_type": "code",
   "execution_count": 4,
   "id": "046a6df9-aa70-4b65-997f-bcd3c8f1dd49",
   "metadata": {
    "tags": []
   },
   "outputs": [
    {
     "name": "stdout",
     "output_type": "stream",
     "text": [
      "NodeOp(label=<EntityType.External: 7>, parameters={})\n",
      "NodeOp(label=<EntityType.Circle: 2>, parameters={'isConstruction': True, 'clockwise': False, 'xCenter': 0.0, 'yCenter': 0.0, 'xDir': 1.0, 'yDir': 0.0, 'radius': 0.004041451884327372})\n",
      "NodeOp(label=<SubnodeType.SN_Center: 103>, parameters={})\n",
      "EdgeOp(label=<ConstraintType.Subnode: 101>, references=(2, 1), parameters={})\n",
      "EdgeOp(label=<ConstraintType.Concentric: 15>, references=(2, 0), parameters={})\n",
      "NodeOp(label=<EntityType.Line: 1>, parameters={'isConstruction': False, 'dirX': 0.0, 'dirY': -0.9999999999999999, 'pntX': -0.0035, 'pntY': -3.1785640014566326e-06, 'startParam': -0.0020239045061651445, 'endParam': 0.002017547378162232})\n",
      "EdgeOp(label=<ConstraintType.Vertical: 6>, references=(3,), parameters={})\n",
      "NodeOp(label=<SubnodeType.SN_Start: 101>, parameters={})\n",
      "EdgeOp(label=<ConstraintType.Subnode: 101>, references=(4, 3), parameters={})\n",
      "EdgeOp(label=<ConstraintType.Coincident: 0>, references=(4, 1), parameters={})\n",
      "NodeOp(label=<SubnodeType.SN_End: 102>, parameters={})\n",
      "EdgeOp(label=<ConstraintType.Subnode: 101>, references=(5, 3), parameters={})\n",
      "EdgeOp(label=<ConstraintType.Coincident: 0>, references=(5, 1), parameters={})\n",
      "NodeOp(label=<EntityType.Line: 1>, parameters={'isConstruction': False, 'dirX': 0.8660254037844393, 'dirY': -0.4999999999999988, 'pntX': -0.0016918798548043307, 'pntY': -0.003064644594719591, 'startParam': -0.002087837305111808, 'endParam': 0.001953614579215568})\n",
      "NodeOp(label=<SubnodeType.SN_Start: 101>, parameters={})\n",
      "EdgeOp(label=<ConstraintType.Subnode: 101>, references=(7, 6), parameters={})\n",
      "EdgeOp(label=<ConstraintType.Coincident: 0>, references=(7, 5), parameters={})\n",
      "NodeOp(label=<SubnodeType.SN_End: 102>, parameters={})\n",
      "EdgeOp(label=<ConstraintType.Subnode: 101>, references=(8, 6), parameters={})\n",
      "EdgeOp(label=<ConstraintType.Coincident: 0>, references=(8, 1), parameters={})\n",
      "EdgeOp(label=<ConstraintType.Vertical: 6>, references=(8, 0), parameters={})\n",
      "NodeOp(label=<EntityType.Line: 1>, parameters={'isConstruction': False, 'dirX': 0.8660254037844393, 'dirY': 0.49999999999999883, 'pntX': 0.0015934421744574882, 'pntY': -0.0031214776159662425, 'startParam': -0.0018399485367222657, 'endParam': 0.0022015033476051123})\n",
      "NodeOp(label=<SubnodeType.SN_Start: 101>, parameters={})\n",
      "EdgeOp(label=<ConstraintType.Subnode: 101>, references=(10, 9), parameters={})\n",
      "EdgeOp(label=<ConstraintType.Coincident: 0>, references=(10, 8), parameters={})\n",
      "NodeOp(label=<SubnodeType.SN_End: 102>, parameters={})\n",
      "EdgeOp(label=<ConstraintType.Subnode: 101>, references=(11, 9), parameters={})\n",
      "EdgeOp(label=<ConstraintType.Coincident: 0>, references=(11, 1), parameters={})\n",
      "NodeOp(label=<EntityType.Line: 1>, parameters={'isConstruction': False, 'dirX': 0.0, 'dirY': 0.9999999999999999, 'pntX': 0.0035, 'pntY': -1.362874653456583e-06, 'startParam': -0.0020193630675102324, 'endParam': 0.0020220888168171443})\n",
      "EdgeOp(label=<ConstraintType.Vertical: 6>, references=(12,), parameters={})\n",
      "EdgeOp(label=<ConstraintType.Distance: 3>, references=(12, 3), parameters={'direction': 'MINIMUM', 'halfSpace0': 'LEFT', 'halfSpace1': 'LEFT', 'length': '(#hex_size) mm'})\n",
      "NodeOp(label=<SubnodeType.SN_Start: 101>, parameters={})\n",
      "EdgeOp(label=<ConstraintType.Subnode: 101>, references=(13, 12), parameters={})\n",
      "EdgeOp(label=<ConstraintType.Coincident: 0>, references=(13, 11), parameters={})\n",
      "NodeOp(label=<SubnodeType.SN_End: 102>, parameters={})\n",
      "EdgeOp(label=<ConstraintType.Subnode: 101>, references=(14, 12), parameters={})\n",
      "EdgeOp(label=<ConstraintType.Coincident: 0>, references=(14, 1), parameters={})\n",
      "NodeOp(label=<EntityType.Line: 1>, parameters={'isConstruction': False, 'dirX': -0.8660254037844393, 'dirY': 0.49999999999999883, 'pntX': 0.001593442174457488, 'pntY': 0.0031214776159662417, 'startParam': -0.0022015033476051127, 'endParam': 0.001839948536722266})\n",
      "NodeOp(label=<SubnodeType.SN_Start: 101>, parameters={})\n",
      "EdgeOp(label=<ConstraintType.Subnode: 101>, references=(16, 15), parameters={})\n",
      "EdgeOp(label=<ConstraintType.Coincident: 0>, references=(16, 14), parameters={})\n",
      "NodeOp(label=<SubnodeType.SN_End: 102>, parameters={})\n",
      "EdgeOp(label=<ConstraintType.Subnode: 101>, references=(17, 15), parameters={})\n",
      "EdgeOp(label=<ConstraintType.Coincident: 0>, references=(17, 1), parameters={})\n",
      "EdgeOp(label=<ConstraintType.Vertical: 6>, references=(17, 0), parameters={})\n",
      "NodeOp(label=<EntityType.Line: 1>, parameters={'isConstruction': False, 'dirX': -0.8660254037844392, 'dirY': -0.4999999999999988, 'pntX': -0.0016918798548043298, 'pntY': 0.0030646445947195905, 'startParam': -0.001953614579215568, 'endParam': 0.0020878373051118086})\n",
      "EdgeOp(label=<ConstraintType.Equal: 11>, references=(18, 15), parameters={})\n",
      "EdgeOp(label=<ConstraintType.Equal: 11>, references=(18, 3), parameters={})\n",
      "NodeOp(label=<SubnodeType.SN_Start: 101>, parameters={})\n",
      "EdgeOp(label=<ConstraintType.Subnode: 101>, references=(19, 18), parameters={})\n",
      "EdgeOp(label=<ConstraintType.Coincident: 0>, references=(19, 17), parameters={})\n",
      "NodeOp(label=<SubnodeType.SN_End: 102>, parameters={})\n",
      "EdgeOp(label=<ConstraintType.Subnode: 101>, references=(20, 18), parameters={})\n",
      "EdgeOp(label=<ConstraintType.Coincident: 0>, references=(20, 4), parameters={})\n",
      "NodeOp(label=<EntityType.Stop: 8>, parameters={})\n"
     ]
    },
    {
     "data": {
      "image/png": "[encoded data removed]",
      "text/plain": [
       "<Figure size 432x288 with 1 Axes>"
      ]
     },
     "metadata": {
      "needs_background": "light"
     },
     "output_type": "display_data"
    }
   ],
   "source": [
    "print(*seq, sep='\\n')\n",
    "sketch = datalib.sketch_from_sequence(seq)\n",
    "datalib.render_sketch(sketch);"
   ]
  },
  {
   "cell_type": "code",
   "execution_count": 8,
   "id": "f448f347-b38e-4d4e-a882-7d92dcee6421",
   "metadata": {
    "tags": []
   },
   "outputs": [
    {
     "name": "stdout",
     "output_type": "stream",
     "text": [
      " Volume in drive C has no label.\n",
      " Volume Serial Number is A872-D3C5\n",
      "\n",
      " Directory of C:\\Users\\AndrejxD\\OneDrive\\Sola\\MLG\n",
      "\n",
      "02/05/2023  07:34 PM    <DIR>          .\n",
      "02/05/2023  07:34 PM    <DIR>          ..\n",
      "02/05/2023  06:21 PM             1,841 .gitignore\n",
      "02/05/2023  05:32 PM    <DIR>          .ipynb_checkpoints\n",
      "02/05/2023  06:17 PM    <DIR>          datasets\n",
      "02/05/2023  07:34 PM            26,646 MLGSketchbook.ipynb\n",
      "02/05/2023  05:26 PM                13 README.md\n",
      "               3 File(s)         28,500 bytes\n",
      "               4 Dir(s)  67,338,362,880 bytes free\n"
     ]
    }
   ],
   "source": [
    "import os\n",
    "!dir"
   ]
  },
  {
   "cell_type": "code",
   "execution_count": null,
   "id": "7b9c7e90-e7df-4ee4-955e-3947ce5e3d7a",
   "metadata": {},
   "outputs": [],
   "source": []
  }
 ],
 "metadata": {
  "kernelspec": {
   "display_name": "Python 3",
   "language": "python",
   "name": "python3"
  },
  "language_info": {
   "codemirror_mode": {
    "name": "ipython",
    "version": 3
   },
   "file_extension": ".py",
   "mimetype": "text/x-python",
   "name": "python",
   "nbconvert_exporter": "python",
   "pygments_lexer": "ipython3",
   "version": "3.8.10"
  }
 },
 "nbformat": 4,
 "nbformat_minor": 5
}
