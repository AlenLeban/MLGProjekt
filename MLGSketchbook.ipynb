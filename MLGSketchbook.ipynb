{
 "cells": [
  {
   "cell_type": "code",
   "execution_count": 1,
   "id": "c4f5f2a4-a7e8-406e-8af1-fde26692ac97",
   "metadata": {
    "tags": []
   },
   "outputs": [],
   "source": [
    "import sys"
   ]
  },
  {
   "cell_type": "code",
   "execution_count": 2,
   "id": "15b368cf-d52c-4cf7-b951-b2516236f82c",
   "metadata": {
    "tags": []
   },
   "outputs": [
    {
     "data": {
      "text/plain": [
       "['C:\\\\Users\\\\AndrejxD\\\\OneDrive\\\\Sola\\\\MLG',\n",
       " 'C:\\\\Program Files\\\\WindowsApps\\\\PythonSoftwareFoundation.Python.3.8_3.8.2800.0_x64__qbz5n2kfra8p0\\\\python38.zip',\n",
       " 'C:\\\\Program Files\\\\WindowsApps\\\\PythonSoftwareFoundation.Python.3.8_3.8.2800.0_x64__qbz5n2kfra8p0\\\\DLLs',\n",
       " 'C:\\\\Program Files\\\\WindowsApps\\\\PythonSoftwareFoundation.Python.3.8_3.8.2800.0_x64__qbz5n2kfra8p0\\\\lib',\n",
       " 'C:\\\\Users\\\\AndrejxD\\\\AppData\\\\Local\\\\Microsoft\\\\WindowsApps\\\\PythonSoftwareFoundation.Python.3.8_qbz5n2kfra8p0',\n",
       " '',\n",
       " 'C:\\\\Users\\\\AndrejxD\\\\AppData\\\\Local\\\\Packages\\\\PythonSoftwareFoundation.Python.3.8_qbz5n2kfra8p0\\\\LocalCache\\\\local-packages\\\\Python38\\\\site-packages',\n",
       " 'd:\\\\downloads\\\\sketchgraphs',\n",
       " 'C:\\\\Users\\\\AndrejxD\\\\AppData\\\\Local\\\\Packages\\\\PythonSoftwareFoundation.Python.3.8_qbz5n2kfra8p0\\\\LocalCache\\\\local-packages\\\\Python38\\\\site-packages\\\\win32',\n",
       " 'C:\\\\Users\\\\AndrejxD\\\\AppData\\\\Local\\\\Packages\\\\PythonSoftwareFoundation.Python.3.8_qbz5n2kfra8p0\\\\LocalCache\\\\local-packages\\\\Python38\\\\site-packages\\\\win32\\\\lib',\n",
       " 'C:\\\\Users\\\\AndrejxD\\\\AppData\\\\Local\\\\Packages\\\\PythonSoftwareFoundation.Python.3.8_qbz5n2kfra8p0\\\\LocalCache\\\\local-packages\\\\Python38\\\\site-packages\\\\Pythonwin',\n",
       " 'C:\\\\Program Files\\\\WindowsApps\\\\PythonSoftwareFoundation.Python.3.8_3.8.2800.0_x64__qbz5n2kfra8p0',\n",
       " 'C:\\\\Program Files\\\\WindowsApps\\\\PythonSoftwareFoundation.Python.3.8_3.8.2800.0_x64__qbz5n2kfra8p0\\\\lib\\\\site-packages',\n",
       " 'C:\\\\Users\\\\AndrejxD\\\\AppData\\\\Local\\\\Packages\\\\PythonSoftwareFoundation.Python.3.8_qbz5n2kfra8p0\\\\LocalCache\\\\local-packages\\\\Python38\\\\site-packages\\\\IPython\\\\extensions',\n",
       " 'C:\\\\Users\\\\AndrejxD\\\\.ipython']"
      ]
     },
     "execution_count": 2,
     "metadata": {},
     "output_type": "execute_result"
    }
   ],
   "source": [
    "sys.path"
   ]
  },
  {
   "cell_type": "code",
   "execution_count": 52,
   "id": "4d8fca82-3045-409f-8c89-0a1668c0d593",
   "metadata": {
    "tags": []
   },
   "outputs": [
    {
     "name": "stdout",
     "output_type": "stream",
     "text": [
      "315228\n",
      "NodeOp(label=<EntityType.External: 7>, parameters={})\n",
      "NodeOp(label=<EntityType.Line: 1>, parameters={'isConstruction': False, 'dirX': -1.0, 'dirY': 0.0, 'pntX': 3.7638401311776547e-20, 'pntY': 0.0010000000000000009, 'startParam': -0.023555728090000838, 'endParam': 0.023555728090000838})\n",
      "NodeOp(label=<SubnodeType.SN_Start: 101>, parameters={})\n",
      "EdgeOp(label=<ConstraintType.Subnode: 101>, references=(2, 1), parameters={})\n",
      "NodeOp(label=<SubnodeType.SN_End: 102>, parameters={})\n",
      "EdgeOp(label=<ConstraintType.Subnode: 101>, references=(3, 1), parameters={})\n",
      "NodeOp(label=<EntityType.Line: 1>, parameters={'isConstruction': False, 'dirX': -1.0, 'dirY': 0.0, 'pntX': 0.0, 'pntY': -0.0009999999999999992, 'startParam': -0.023555728090000838, 'endParam': 0.023555728090000838})\n",
      "EdgeOp(label=<ConstraintType.Parallel: 5>, references=(4, 1), parameters={})\n",
      "EdgeOp(label=<ConstraintType.Horizontal: 4>, references=(4,), parameters={})\n",
      "NodeOp(label=<SubnodeType.SN_Start: 101>, parameters={})\n",
      "EdgeOp(label=<ConstraintType.Subnode: 101>, references=(5, 4), parameters={})\n",
      "NodeOp(label=<SubnodeType.SN_End: 102>, parameters={})\n",
      "EdgeOp(label=<ConstraintType.Subnode: 101>, references=(6, 4), parameters={})\n",
      "NodeOp(label=<EntityType.Point: 0>, parameters={'isConstruction': False, 'x': 0.0, 'y': 0.0})\n",
      "EdgeOp(label=<ConstraintType.Coincident: 0>, references=(7, 0), parameters={})\n",
      "NodeOp(label=<EntityType.Circle: 2>, parameters={'isConstruction': False, 'clockwise': False, 'xCenter': -0.0325, 'yCenter': 1.734723475976807e-18, 'xDir': 1.0, 'yDir': 0.0, 'radius': 0.007})\n",
      "EdgeOp(label=<ConstraintType.Diameter: 12>, references=(8,), parameters={'length': '0.014 METER'})\n",
      "NodeOp(label=<SubnodeType.SN_Center: 103>, parameters={})\n",
      "EdgeOp(label=<ConstraintType.Subnode: 101>, references=(9, 8), parameters={})\n",
      "NodeOp(label=<EntityType.Circle: 2>, parameters={'isConstruction': False, 'clockwise': False, 'xCenter': 0.0325, 'yCenter': 1.7618285302889447e-18, 'xDir': 1.0, 'yDir': 0.0, 'radius': 0.007})\n"
     ]
    },
    {
     "data": {
      "image/png": "[encoded data removed]",
      "text/plain": [
       "<Figure size 432x288 with 1 Axes>"
      ]
     },
     "metadata": {
      "needs_background": "light"
     },
     "output_type": "display_data"
    }
   ],
   "source": [
    "import sketchgraphs.data as datalib\n",
    "import random\n",
    "from sketchgraphs.data import flat_array\n",
    "seq_data = flat_array.load_dictionary_flat('sg_t16_validation.npy')\n",
    "print(len(seq_data['sequences']))\n",
    "\n",
    "seq = seq_data['sequences'][random.randint(0, 315228)]\n",
    "print(*seq[:20], sep='\\n')\n",
    "sketch = datalib.sketch_from_sequence(seq)\n",
    "datalib.render_sketch(sketch);"
   ]
  },
  {
   "cell_type": "code",
   "execution_count": 11,
   "id": "f448f347-b38e-4d4e-a882-7d92dcee6421",
   "metadata": {
    "tags": []
   },
   "outputs": [
    {
     "name": "stdout",
     "output_type": "stream",
     "text": [
      " Volume in drive C has no label.\n",
      " Volume Serial Number is A872-D3C5\n",
      "\n",
      " Directory of C:\\Users\\AndrejxD\\OneDrive\\Sola\\MLG\n",
      "\n",
      "02/05/2023  06:00 PM    <DIR>          .\n",
      "02/05/2023  06:00 PM    <DIR>          ..\n",
      "02/05/2023  05:33 PM             1,827 .gitignore\n",
      "02/05/2023  05:32 PM    <DIR>          .ipynb_checkpoints\n",
      "02/05/2023  06:00 PM             3,880 MLGSketchbook.ipynb\n",
      "02/05/2023  05:26 PM                13 README.md\n",
      "02/04/2023  08:53 PM       211,121,676 sg_t16_validation.npy\n",
      "               4 File(s)    211,127,396 bytes\n",
      "               3 Dir(s)  68,448,886,784 bytes free\n"
     ]
    }
   ],
   "source": [
    "import os\n",
    "!dir"
   ]
  },
  {
   "cell_type": "code",
   "execution_count": null,
   "id": "7b9c7e90-e7df-4ee4-955e-3947ce5e3d7a",
   "metadata": {},
   "outputs": [],
   "source": []
  }
 ],
 "metadata": {
  "kernelspec": {
   "display_name": "Python 3",
   "language": "python",
   "name": "python3"
  },
  "language_info": {
   "codemirror_mode": {
    "name": "ipython",
    "version": 3
   },
   "file_extension": ".py",
   "mimetype": "text/x-python",
   "name": "python",
   "nbconvert_exporter": "python",
   "pygments_lexer": "ipython3",
   "version": "3.8.10"
  }
 },
 "nbformat": 4,
 "nbformat_minor": 5
}
