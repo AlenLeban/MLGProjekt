{
 "cells": [
  {
   "cell_type": "code",
   "execution_count": 16,
   "id": "0dced3cd-5840-42ad-9c28-f99aac24c2ba",
   "metadata": {
    "tags": []
   },
   "outputs": [],
   "source": [
    "import torch\n",
    "import torch_geometric.nn as nn"
   ]
  },
  {
   "cell_type": "code",
   "execution_count": 63,
   "id": "7f6d80bf-31b1-44a1-8622-94d1ab6b114e",
   "metadata": {},
   "outputs": [],
   "source": [
    "class CustomLayer(nn.MessagePassing):\n",
    "    def __init__(self, in_channels, out_channels):\n",
    "        super().__init__(aggr='add')  # \"Add\" aggregation (Step 5).\n",
    "        \n",
    "        self.linear = nn.Linear(in_channels, out_channels, bias=False)\n",
    "        self.bias = torch.nn.Parameter(torch.Tensor(out_channels))\n",
    "        \n",
    "        self.reset_parameters()\n",
    "        \n",
    "    def forward(self):\n",
    "        pass\n",
    "        \n",
    "    def message(self):\n",
    "        pass\n",
    "        \n",
    "    def reset_parameters(self):\n",
    "        pass\n",
    "        "
   ]
  },
  {
   "cell_type": "code",
   "execution_count": 67,
   "id": "8db25390-dac9-4700-addd-1f35962b805d",
   "metadata": {
    "tags": []
   },
   "outputs": [],
   "source": [
    "class GNN(torch.nn.Module):\n",
    "    def __init__(self):\n",
    "        super().__init__()\n",
    "        self.customLayer = CustomLayer(3, 1)"
   ]
  },
  {
   "cell_type": "code",
   "execution_count": 68,
   "id": "a3185c40-afb7-4a76-9989-f1219fdc3538",
   "metadata": {
    "tags": []
   },
   "outputs": [],
   "source": [
    "model = GNN()"
   ]
  },
  {
   "cell_type": "code",
   "execution_count": null,
   "id": "2588fcb8-8d96-4ff2-815c-d761b274b80e",
   "metadata": {},
   "outputs": [],
   "source": []
  }
 ],
 "metadata": {
  "kernelspec": {
   "display_name": "Python 3",
   "language": "python",
   "name": "python3"
  },
  "language_info": {
   "codemirror_mode": {
    "name": "ipython",
    "version": 3
   },
   "file_extension": ".py",
   "mimetype": "text/x-python",
   "name": "python",
   "nbconvert_exporter": "python",
   "pygments_lexer": "ipython3",
   "version": "3.8.10"
  }
 },
 "nbformat": 4,
 "nbformat_minor": 5
}
